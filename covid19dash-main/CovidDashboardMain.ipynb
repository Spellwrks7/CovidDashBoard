{
 "cells": [
  {
   "cell_type": "code",
   "execution_count": 1,
   "id": "556286e4-4379-4929-9669-01d8d444cb0a",
   "metadata": {},
   "outputs": [
    {
     "data": {
      "text/plain": [
       "'This cell of code sets up the imports I am using, global variables, and the configurations necessary for fetching,\\nprocessing and visualising the covid 19 and other resp virus data. This is done by setting out the file path for the\\ntimeseries file I use to make the timeseries graph, a dictionary containing respiratory virus APIs, and my lineage data API\\nalong with the output file where Im storing the data. The global variables are just 3 dataframes to hold the time series,\\nlineage, and combined resp virus positivity rate data. The output widgets are pretty self explanatory - just widgets to\\ndisplay the plots and outputs for all the data, and an extra widget to display debug logs during the API requests.'"
      ]
     },
     "execution_count": 1,
     "metadata": {},
     "output_type": "execute_result"
    }
   ],
   "source": [
    "#Imports\n",
    "import pandas as pd\n",
    "import matplotlib.pyplot as plt\n",
    "import requests\n",
    "import ipywidgets as wdg\n",
    "from IPython.display import display, clear_output\n",
    "import time\n",
    "\n",
    "%matplotlib inline\n",
    "\n",
    "#File paths and API URLs\n",
    "file_path = 'timeseries.json'\n",
    "\n",
    "respiratory_api_urls = {\n",
    "    \"Adenovirus\": \"https://api.ukhsa-dashboard.data.gov.uk/themes/infectious_disease/sub_themes/respiratory/topics/Adenovirus/geography_types/Nation/geographies/England/metrics/adenovirus_testing_positivityByWeek\",\n",
    "    \"hMPV\": \"https://api.ukhsa-dashboard.data.gov.uk/themes/infectious_disease/sub_themes/respiratory/topics/hMPV/geography_types/Nation/geographies/England/metrics/hMPV_testing_positivityByWeek\",\n",
    "    \"Influenza\": \"https://api.ukhsa-dashboard.data.gov.uk/themes/infectious_disease/sub_themes/respiratory/topics/Influenza/geography_types/Nation/geographies/England/metrics/influenza_testing_positivityByWeek\",\n",
    "    \"Rhinovirus\": \"https://api.ukhsa-dashboard.data.gov.uk/themes/infectious_disease/sub_themes/respiratory/topics/Rhinovirus/geography_types/Nation/geographies/England/metrics/rhinovirus_testing_positivityByWeek\",\n",
    "    \"RSV\": \"https://api.ukhsa-dashboard.data.gov.uk/themes/infectious_disease/sub_themes/respiratory/topics/RSV/geography_types/Nation/geographies/England/metrics/RSV_testing_positivityByWeek\"\n",
    "}\n",
    "\n",
    "lineage_api_url = \"https://api.ukhsa-dashboard.data.gov.uk/themes/infectious_disease/sub_themes/respiratory/topics/COVID-19/geography_types/Nation/geographies/England/metrics/COVID-19_cases_lineagePercentByWeek\"\n",
    "lineage_output_file = \"lineage_data.json\"\n",
    "\n",
    "#Globs\n",
    "covid_df = pd.DataFrame()\n",
    "lineage_df = pd.DataFrame()\n",
    "respiratory_data = pd.DataFrame()\n",
    "\n",
    "#Output widgets\n",
    "covid_output = wdg.Output()\n",
    "lineage_output = wdg.Output()\n",
    "debug_output = wdg.Output()\n",
    "plot_output = wdg.Output()\n",
    "\n",
    "\"\"\"This cell of code sets up the imports I am using, global variables, and the configurations necessary for fetching,\n",
    "processing and visualising the covid 19 and other resp virus data. This is done by setting out the file path for the\n",
    "timeseries file I use to make the timeseries graph, a dictionary containing respiratory virus APIs, and my lineage data API\n",
    "along with the output file where Im storing the data. The global variables are just 3 dataframes to hold the time series,\n",
    "lineage, and combined resp virus positivity rate data. The output widgets are pretty self explanatory - just widgets to\n",
    "display the plots and outputs for all the data, and an extra widget to display debug logs during the API requests.\"\"\""
   ]
  },
  {
   "cell_type": "code",
   "execution_count": 2,
   "id": "b05eaf65-0b1e-4bc1-ac2f-f7f1f0c2d687",
   "metadata": {},
   "outputs": [
    {
     "data": {
      "text/plain": [
       "\"This cell contains all the functions needed to handle the covid time series data. Wrangle data reads and processes\\nthe data from a json file, converts it to a pandas dataframe, normalizes it, converts the date column to datetime, and then plots the \\nplots it on a timeseries graph. Additionally, if there's no data in the frame, or the columns are structured incorrectly,\\nit returns an error message (no data available to plot). The plotting function plots, and the refresh function refreshes\\nthe plot based upon metrics selected by user from a dropdown menu.\""
      ]
     },
     "execution_count": 2,
     "metadata": {},
     "output_type": "execute_result"
    }
   ],
   "source": [
    "#Covid timeseries funcs\n",
    "def wrangle_data(file_path):\n",
    "    try:\n",
    "        rawdata = pd.read_json(file_path)\n",
    "        if 'data' in rawdata.columns:\n",
    "            normal_data = pd.json_normalize(rawdata['data'])\n",
    "            normal_data[\"date\"] = pd.to_datetime(normal_data[\"date\"])\n",
    "            return normal_data\n",
    "        else:\n",
    "            return pd.DataFrame()\n",
    "    except Exception as e:\n",
    "        print(f\"Error loading data: {e}\")\n",
    "        return pd.DataFrame()\n",
    "\n",
    "def plot_data(dataframe, column):\n",
    "    with covid_output:\n",
    "        clear_output(wait=True)\n",
    "        if dataframe.empty or column not in dataframe.columns:\n",
    "            print(\"No data available to plot.\")\n",
    "            return\n",
    "\n",
    "        display_name = \"Hospitalisations\" if column == \"hospital\" else column.capitalize()\n",
    "        plt.figure(figsize=(10, 6))\n",
    "        plt.plot(dataframe[\"date\"], dataframe[column], marker='', linestyle='-')\n",
    "        plt.title(f\"{display_name} Over Time\")\n",
    "        plt.xlabel(\"Date\")\n",
    "        plt.ylabel(\"Count\")\n",
    "        plt.grid()\n",
    "        plt.tight_layout()\n",
    "        plt.show()\n",
    "\n",
    "def refresh_plot(change=None):\n",
    "    metric = covid_column_selector.value.lower()\n",
    "    plot_data(covid_df, \"hospital\" if metric == \"hospitalisations\" else metric)\n",
    "\n",
    "\"\"\"This cell contains all the functions needed to handle the covid time series data. Wrangle data reads and processes\n",
    "the data from a json file, converts it to a pandas dataframe, normalizes it, converts the date column to datetime, and then plots the \n",
    "plots it on a timeseries graph. Additionally, if there's no data in the frame, or the columns are structured incorrectly,\n",
    "it returns an error message (no data available to plot). The plotting function plots, and the refresh function refreshes\n",
    "the plot based upon metrics selected by user from a dropdown menu.\"\"\""
   ]
  },
  {
   "cell_type": "code",
   "execution_count": 3,
   "id": "7b55e952-df34-46fb-b629-64e93b6422bc",
   "metadata": {},
   "outputs": [
    {
     "data": {
      "text/plain": [
       "\"This cell's functions handle the lineage data. This includes fetching, saving, processing and plotting the data. It \\nfetches data from the API with a while loop that gets pages so long as more pages from the url exist, combines it all into \\na dataframe and handles previous errors I fixed that happened when data fetching failed. It then converts and\\nsaves the lineage data to a json file. It then cleans the data by filtering by metric and changing date to datetime.\\nIt then plots it on a graph, and the final function combines all of this to be done by a button the user presses.\""
      ]
     },
     "execution_count": 3,
     "metadata": {},
     "output_type": "execute_result"
    }
   ],
   "source": [
    "#Lineage timeseries funcs\n",
    "def fetch_lineage_data_all_pages():\n",
    "    results = []\n",
    "    next_url = lineage_api_url\n",
    "    while next_url:\n",
    "        response = requests.get(next_url)\n",
    "        if response.status_code != 200:\n",
    "            print(f\"Failed to fetch data from {next_url}\")\n",
    "            break\n",
    "        data = response.json()\n",
    "        results.extend(data[\"results\"])\n",
    "        next_url = data.get(\"next\") \n",
    "    return pd.DataFrame(results)\n",
    "\n",
    "def save_data_to_json(dataframe, filename):\n",
    "    dataframe.to_json(filename, orient=\"records\", date_format=\"iso\")\n",
    "    print(f\"Data saved to {filename}\")\n",
    "\n",
    "def preprocess_lineage_data(dataframe):\n",
    "    if dataframe.empty:\n",
    "        print(\"No lineage data available.\")\n",
    "        return pd.DataFrame()\n",
    "\n",
    "    filtered_df = dataframe[[\"date\", \"stratum\", \"metric_value\"]]\n",
    "    filtered_df = filtered_df.rename(columns={\"stratum\": \"Lineage\", \"metric_value\": \"Percentage\"})\n",
    "    filtered_df[\"date\"] = pd.to_datetime(filtered_df[\"date\"])\n",
    "    return filtered_df\n",
    "\n",
    "def plot_lineage_time_series(dataframe):\n",
    "    with lineage_output:\n",
    "        clear_output(wait=True)\n",
    "        if dataframe.empty:\n",
    "            print(\"No data available to plot.\")\n",
    "            return\n",
    "\n",
    "        plt.figure(figsize=(12, 6))\n",
    "        for lineage in dataframe[\"Lineage\"].unique():\n",
    "            lineage_data = dataframe[dataframe[\"Lineage\"] == lineage]\n",
    "            plt.plot(lineage_data[\"date\"], lineage_data[\"Percentage\"], label=lineage, marker='', linestyle='-')\n",
    "\n",
    "        plt.title(\"COVID-19 Cases by Lineage Over Time\")\n",
    "        plt.xlabel(\"Date\")\n",
    "        plt.ylabel(\"Percentage of Cases (%)\")\n",
    "        plt.legend(title=\"Lineage\", loc='upper left')\n",
    "        plt.grid()\n",
    "        plt.tight_layout()\n",
    "        plt.show()\n",
    "\n",
    "def fetch_and_update_lineage_data(button):\n",
    "    global lineage_df\n",
    "    with debug_output:\n",
    "        clear_output(wait=True)\n",
    "        print(\"Fetching lineage data from API...\")\n",
    "        new_data = fetch_lineage_data_all_pages()\n",
    "        if not new_data.empty:\n",
    "            print(\"Data fetched successfully.\")\n",
    "            lineage_df = preprocess_lineage_data(new_data)\n",
    "            save_data_to_json(new_data, lineage_output_file)\n",
    "            plot_lineage_time_series(lineage_df)\n",
    "        else:\n",
    "            print(\"Failed to fetch lineage data or no new data available.\")\n",
    "\n",
    "\"\"\"This cell's functions handle the lineage data. This includes fetching, saving, processing and plotting the data. It \n",
    "fetches data from the API with a while loop that gets pages so long as more pages from the url exist, combines it all into \n",
    "a dataframe and handles previous errors I fixed that happened when data fetching failed. It then converts and\n",
    "saves the lineage data to a json file. It then cleans the data by filtering by metric and changing date to datetime.\n",
    "It then plots it on a graph, and the final function combines all of this to be done by a button the user presses.\"\"\""
   ]
  },
  {
   "cell_type": "code",
   "execution_count": 4,
   "id": "cddd6ba2-1cab-4dc8-ab97-58e99d15abb5",
   "metadata": {},
   "outputs": [
    {
     "data": {
      "text/plain": [
       "\"IMPORTANT KET NOTE PLEASE READ BEFORE TRYING TO USE THE BUTTON: This process loops through (I think it was) 5164 pages \\nworth of data. With the 200ms delays, this takes around 15 to 20 minutes, and the risk of certain data being lost to\\ntimeouts isnt entirely mitigated (though the grand majority of the data will be receieved and plotted). Just bear \\nin mind this process will take a long while. You will know it works as when one virus' pages has been fetched, it will \\ngive a message moving onto the next one. Please please please bear this in mind when using.\""
      ]
     },
     "execution_count": 4,
     "metadata": {},
     "output_type": "execute_result"
    }
   ],
   "source": [
    "#Other respiratory virus funcs\n",
    "def fetch_all_pages(api_url, virus_name, delay=0.2):\n",
    "    results = []\n",
    "    next_url = api_url\n",
    "    while next_url:\n",
    "        response = requests.get(next_url)\n",
    "        if response.status_code != 200: #Status code 200 signifies success (server returned desired response)\n",
    "            print(f\"Failed to fetch data from {next_url}\")\n",
    "            break\n",
    "        data = response.json()\n",
    "        results.extend(data[\"results\"])\n",
    "        next_url = data.get(\"next\")  \n",
    "        time.sleep(delay)  \n",
    "    if not results:\n",
    "        return pd.DataFrame()\n",
    "    df = pd.DataFrame(results)\n",
    "    df[\"virus\"] = virus_name  \n",
    "    return df\n",
    "#The function above is horrifically inefficient, but, I tried.\n",
    "\n",
    "def fetch_and_combine_data(delay=0.2):\n",
    "    global respiratory_data\n",
    "    combined_data = []\n",
    "    for virus_name, api_url in respiratory_api_urls.items():\n",
    "        print(f\"Fetching data for {virus_name}...\")\n",
    "        virus_data = fetch_all_pages(api_url, virus_name, delay=delay)\n",
    "        if not virus_data.empty:\n",
    "            combined_data.append(virus_data)\n",
    "    if combined_data:\n",
    "        respiratory_data = pd.concat(combined_data, ignore_index=True)\n",
    "        print(\"All data fetched and combined.\")\n",
    "    else:\n",
    "        print(\"No data fetched from APIs.\")\n",
    "\n",
    "def preprocess_data(dataframe):\n",
    "    if dataframe.empty:\n",
    "        print(\"No data available for preprocessing.\")\n",
    "        return pd.DataFrame()\n",
    "    dataframe = dataframe[[\"date\", \"metric_value\", \"virus\"]].copy()\n",
    "    dataframe.rename(columns={\"metric_value\": \"PositivityRate\"}, inplace=True)\n",
    "    dataframe[\"date\"] = pd.to_datetime(dataframe[\"date\"])\n",
    "    return dataframe\n",
    "\n",
    "def plot_time_series(dataframe):\n",
    "    with plot_output:\n",
    "        clear_output(wait=True)\n",
    "        if dataframe.empty:\n",
    "            print(\"No data available to plot.\")\n",
    "            return\n",
    "        plt.figure(figsize=(12, 6))\n",
    "        for virus in dataframe[\"virus\"].unique():\n",
    "            virus_data = dataframe[dataframe[\"virus\"] == virus]\n",
    "            plt.plot(virus_data[\"date\"], virus_data[\"PositivityRate\"], label=virus, marker='', linestyle='-')\n",
    "        plt.title(\"Respiratory Viruses Positivity Rates by Week\")\n",
    "        plt.xlabel(\"Date\")\n",
    "        plt.ylabel(\"Positivity Rate (%)\")\n",
    "        plt.legend(title=\"Virus\", loc='upper left')\n",
    "        plt.grid()\n",
    "        plt.tight_layout()\n",
    "        plt.show()\n",
    "\n",
    "def rip_data_from_apis(button):\n",
    "    with debug_output:\n",
    "        clear_output(wait=True)\n",
    "        print(\"Fetching data from APIs...\")\n",
    "        fetch_and_combine_data()\n",
    "        if not respiratory_data.empty:\n",
    "            processed_data = preprocess_data(respiratory_data)\n",
    "            plot_time_series(processed_data)\n",
    "        else:\n",
    "            print(\"No data available after fetching from APIs.\")\n",
    "\n",
    "\"\"\"This cell fetches, processes and plots a timeseries graph for 5 different respiratory viruses (Adenovirus, hMPV, \n",
    "influenza, rhinovirus and RSV). The graph is for positive test rates. It fetches the pages with a delay as I kept getting\n",
    "timed out when I didn't use a delay, thus failing to generate results. It does this by iterating through the pages using\n",
    "the next URL, packages it and returns it in a dataframe containing data for each virus with an added column for the virus\n",
    "name (fetch_all_pages). It then iterates through the API dictionary of URLs for the different viruses, \n",
    "using the fetch_all_pages function to receive data for each virus and combines each individual dataframe into a \n",
    "consolidated dataframe (fetch_and_combine_data). It outputs error messages when data cannot be received and a success message when all data\n",
    "is fetched. It then cleans the data, selecting only relevant columns, and renames metric_value to PositivityRate for \n",
    "greater clarity for the user. All of this is done when the user clicks the \"rip_data_from_apis\" button.\"\"\"\n",
    "\n",
    "\"\"\"IMPORTANT KET NOTE PLEASE READ BEFORE TRYING TO USE THE BUTTON: This process loops through (I think it was) 5164 pages \n",
    "worth of data. With the 200ms delays, this takes around 15 to 20 minutes, and the risk of certain data being lost to\n",
    "timeouts isnt entirely mitigated (though the grand majority of the data will be receieved and plotted). Just bear \n",
    "in mind this process will take a long while. You will know it works as when one virus' pages has been fetched, it will \n",
    "give a message moving onto the next one. Please please please bear this in mind when using.\"\"\""
   ]
  },
  {
   "cell_type": "code",
   "execution_count": 5,
   "id": "01423713-6184-4de2-924d-37fd26587f4d",
   "metadata": {},
   "outputs": [
    {
     "data": {
      "text/plain": [
       "\"This cell just defines the interactive widgets so that the user can select options and trigger the functions for\\ndealing with the data. There's a dropdown menu for the timeseries metrics, the rip from lineage button and the rip from\\nrespiratory button.\""
      ]
     },
     "execution_count": 5,
     "metadata": {},
     "output_type": "execute_result"
    }
   ],
   "source": [
    "#Widget logic\n",
    "covid_column_selector = wdg.Dropdown(\n",
    "    options=['Cases', 'Hospitalisations', 'Deaths'],\n",
    "    value='Cases',\n",
    "    description='COVID Metric:',\n",
    ")\n",
    "covid_column_selector.observe(refresh_plot, names='value')\n",
    "\n",
    "lineage_button = wdg.Button(description=\"Rip Data from Lineage API\", icon=\"download\", button_style=\"info\")\n",
    "lineage_button.on_click(fetch_and_update_lineage_data)\n",
    "\n",
    "respiratory_button = wdg.Button(description=\"Rip Data from APIs\", icon=\"download\", button_style=\"info\")\n",
    "respiratory_button.on_click(rip_data_from_apis)\n",
    "\n",
    "\"\"\"This cell just defines the interactive widgets so that the user can select options and trigger the functions for\n",
    "dealing with the data. There's a dropdown menu for the timeseries metrics, the rip from lineage button and the rip from\n",
    "respiratory button.\"\"\"\n"
   ]
  },
  {
   "cell_type": "code",
   "execution_count": 6,
   "id": "dd45b205-d711-4885-b742-deed45fed907",
   "metadata": {},
   "outputs": [
    {
     "name": "stdout",
     "output_type": "stream",
     "text": [
      "COVID-19 Metrics:\n"
     ]
    },
    {
     "data": {
      "application/vnd.jupyter.widget-view+json": {
       "model_id": "292b4cfd379b4131b7711f9cecb934a5",
       "version_major": 2,
       "version_minor": 0
      },
      "text/plain": [
       "VBox(children=(Dropdown(description='COVID Metric:', options=('Cases', 'Hospitalisations', 'Deaths'), value='C…"
      ]
     },
     "metadata": {},
     "output_type": "display_data"
    },
    {
     "data": {
      "application/vnd.jupyter.widget-view+json": {
       "model_id": "3e7b0a270f254496af8a2d94f029a234",
       "version_major": 2,
       "version_minor": 0
      },
      "text/plain": [
       "Output()"
      ]
     },
     "metadata": {},
     "output_type": "display_data"
    },
    {
     "name": "stdout",
     "output_type": "stream",
     "text": [
      "\n",
      "Lineage Data:\n"
     ]
    },
    {
     "data": {
      "application/vnd.jupyter.widget-view+json": {
       "model_id": "50edc903647a4e209f4db047b464a4b8",
       "version_major": 2,
       "version_minor": 0
      },
      "text/plain": [
       "VBox(children=(Button(button_style='info', description='Rip Data from Lineage API', icon='download', style=But…"
      ]
     },
     "metadata": {},
     "output_type": "display_data"
    },
    {
     "data": {
      "application/vnd.jupyter.widget-view+json": {
       "model_id": "d640b9cc067b47f4bcd7ffa41286432a",
       "version_major": 2,
       "version_minor": 0
      },
      "text/plain": [
       "Output()"
      ]
     },
     "metadata": {},
     "output_type": "display_data"
    },
    {
     "name": "stdout",
     "output_type": "stream",
     "text": [
      "\n",
      "Respiratory Virus Data:\n"
     ]
    },
    {
     "data": {
      "application/vnd.jupyter.widget-view+json": {
       "model_id": "d936460c0b66402db6961392338f18e5",
       "version_major": 2,
       "version_minor": 0
      },
      "text/plain": [
       "VBox(children=(Button(button_style='info', description='Rip Data from APIs', icon='download', style=ButtonStyl…"
      ]
     },
     "metadata": {},
     "output_type": "display_data"
    },
    {
     "data": {
      "application/vnd.jupyter.widget-view+json": {
       "model_id": "6c59e9c262ab4fce9adabcd592d247af",
       "version_major": 2,
       "version_minor": 0
      },
      "text/plain": [
       "Output()"
      ]
     },
     "metadata": {},
     "output_type": "display_data"
    },
    {
     "data": {
      "text/plain": [
       "'This cell just clears existing outputs and displays the buttons. This is so a clean display can be created for updates \\nand so that the user has something to interact with'"
      ]
     },
     "execution_count": 6,
     "metadata": {},
     "output_type": "execute_result"
    }
   ],
   "source": [
    "#Display widgets\n",
    "clear_output(wait=True)\n",
    "print(\"COVID-19 Metrics:\")\n",
    "display(wdg.VBox([covid_column_selector]), covid_output)\n",
    "\n",
    "print(\"\\nLineage Data:\")\n",
    "display(wdg.VBox([lineage_button, debug_output]), lineage_output)\n",
    "\n",
    "print(\"\\nRespiratory Virus Data:\")\n",
    "display(wdg.VBox([respiratory_button, debug_output]), plot_output)\n",
    "\n",
    "\"\"\"This cell just clears existing outputs and displays the buttons. This is so a clean display can be created for updates \n",
    "and so that the user has something to interact with\"\"\""
   ]
  },
  {
   "cell_type": "code",
   "execution_count": 7,
   "id": "b1d222b0-a22e-42ce-884e-3b5a2d7b7f0d",
   "metadata": {},
   "outputs": [
    {
     "data": {
      "text/plain": [
       "'This cell initialises the first set of visualisations for the widgets and their corresponding datasets. It ensures that\\nthe data is loaded, processed then displayed when the notebook is run for the first time'"
      ]
     },
     "execution_count": 7,
     "metadata": {},
     "output_type": "execute_result"
    }
   ],
   "source": [
    "#Initialise plots\n",
    "covid_df = wrangle_data(file_path)\n",
    "refresh_plot()\n",
    "plot_lineage_time_series(lineage_df)\n",
    "\n",
    "\"\"\"This cell initialises the first set of visualisations for the widgets and their corresponding datasets. It ensures that\n",
    "the data is loaded, processed then displayed when the notebook is run for the first time\"\"\""
   ]
  }
 ],
 "metadata": {
  "kernelspec": {
   "display_name": "Python 3 (ipykernel)",
   "language": "python",
   "name": "python3"
  },
  "language_info": {
   "codemirror_mode": {
    "name": "ipython",
    "version": 3
   },
   "file_extension": ".py",
   "mimetype": "text/x-python",
   "name": "python",
   "nbconvert_exporter": "python",
   "pygments_lexer": "ipython3",
   "version": "3.12.5"
  }
 },
 "nbformat": 4,
 "nbformat_minor": 5
}
